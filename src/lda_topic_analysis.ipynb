{
 "cells": [
  {
   "cell_type": "markdown",
   "source": [
    "# LDA Topic Modelling from Hansard\n",
    "## Using LDA to try to extract topics from unlabelled UK parliamentary debates."
   ],
   "metadata": {}
  },
  {
   "cell_type": "markdown",
   "source": [
    "### Data preparation\n",
    "A single-day example of the data can be found in `/data/2016-01-14.json` to make following this more clear."
   ],
   "metadata": {}
  },
  {
   "cell_type": "code",
   "execution_count": 1,
   "source": [
    "import lzma\n",
    "import pickle\n",
    "from pprint import pprint\n",
    "\n",
    "raw_data = None\n",
    "with lzma.open(f\"../data/2016-today.xz\", \"rb\") as f:\n",
    "    raw_data = pickle.load(f)\n",
    "\n",
    "# Check loaded successfully by printing date of first 2 days in data.\n",
    "pprint(raw_data[0][\"date\"])\n",
    "pprint(raw_data[1][\"date\"])"
   ],
   "outputs": [
    {
     "output_type": "stream",
     "name": "stdout",
     "text": [
      "'2016-01-05'\n",
      "'2016-01-06'\n"
     ]
    }
   ],
   "metadata": {}
  },
  {
   "cell_type": "markdown",
   "source": [
    "Here we recursively loop through the \"debates\" as they have a nested structure. The problem we face here is that some things Hansard lists as \"debates\" are/have collections of debates or even just statements. So we try to filter down to the debates on the deepest level and those which have more than 1 contribution so therefore are not statements."
   ],
   "metadata": {}
  },
  {
   "cell_type": "code",
   "execution_count": 2,
   "source": [
    "import numpy as np\n",
    "import pandas as pd\n",
    "\n",
    "\n",
    "def recurse_debates(debates):\n",
    "    for deb in debates:  # Loop through debates\n",
    "        contributions = [\n",
    "            x for x in deb[\"items\"] if x[\"type\"] == \"contribution\"\n",
    "        ]  # Get only the items which have contributions\n",
    "        if (\n",
    "            len(contributions) > 1\n",
    "        ):  # Keep only debates that have more than one contribution.\n",
    "            yield np.array(\n",
    "                [deb[\"title\"], \" \".join([item[\"text\"] for item in deb[\"items\"]])]\n",
    "            )  # Yield debate item in format [title, joined text]\n",
    "        if (\n",
    "            \"child_debates\" in deb\n",
    "        ):  # If debate has child debates loop through those and yield items.\n",
    "            for item in recurse_debates(deb[\"child_debates\"]):\n",
    "                yield item\n",
    "\n",
    "\n",
    "def generate_debates(raw_data):\n",
    "    for day in raw_data:  # Loop through days in data\n",
    "        for item in recurse_debates(day[\"debates\"]):\n",
    "            yield item  # Yield each debate item\n",
    "\n",
    "\n",
    "df = pd.DataFrame(list(generate_debates(raw_data)), columns=[\"title\", \"text\"])\n",
    "df"
   ],
   "outputs": [
    {
     "output_type": "execute_result",
     "data": {
      "text/plain": [
       "                                              title  \\\n",
       "0                              Out-of-hospital Care   \n",
       "1                                       GP Services   \n",
       "2                         Hospital Trusts: Deficits   \n",
       "3                                     Rare Diseases   \n",
       "4               Social Care Budgets: A&E Attendance   \n",
       "...                                             ...   \n",
       "13988                            Education Recovery   \n",
       "13989               Official Development Assistance   \n",
       "13990                               Points of Order   \n",
       "13991  Advanced Research and Invention  Agency Bill   \n",
       "13992     Preserving Heritage and Statues in Cities   \n",
       "\n",
       "                                                    text  \n",
       "0      1.  What progress his Department has made on i...  \n",
       "1      2.  What progress his Department is making on ...  \n",
       "2      3.  What proportion of hospital trusts are in ...  \n",
       "3      4.  How many people have diseases classified b...  \n",
       "4      5.  What assessment he has made of the effect ...  \n",
       "...                                                  ...  \n",
       "13988  With permission, Mr Deputy Speaker, I will mak...  \n",
       "13989  Application for emergency debate (Standing Ord...  \n",
       "13990  On a point of order, Mr Deputy Speaker. This i...  \n",
       "13991  [Relevant documents: Third Report of the Scien...  \n",
       "13992  Motion made, and Question proposed, That this ...  \n",
       "\n",
       "[13993 rows x 2 columns]"
      ],
      "text/html": [
       "<div>\n",
       "<style scoped>\n",
       "    .dataframe tbody tr th:only-of-type {\n",
       "        vertical-align: middle;\n",
       "    }\n",
       "\n",
       "    .dataframe tbody tr th {\n",
       "        vertical-align: top;\n",
       "    }\n",
       "\n",
       "    .dataframe thead th {\n",
       "        text-align: right;\n",
       "    }\n",
       "</style>\n",
       "<table border=\"1\" class=\"dataframe\">\n",
       "  <thead>\n",
       "    <tr style=\"text-align: right;\">\n",
       "      <th></th>\n",
       "      <th>title</th>\n",
       "      <th>text</th>\n",
       "    </tr>\n",
       "  </thead>\n",
       "  <tbody>\n",
       "    <tr>\n",
       "      <th>0</th>\n",
       "      <td>Out-of-hospital Care</td>\n",
       "      <td>1.  What progress his Department has made on i...</td>\n",
       "    </tr>\n",
       "    <tr>\n",
       "      <th>1</th>\n",
       "      <td>GP Services</td>\n",
       "      <td>2.  What progress his Department is making on ...</td>\n",
       "    </tr>\n",
       "    <tr>\n",
       "      <th>2</th>\n",
       "      <td>Hospital Trusts: Deficits</td>\n",
       "      <td>3.  What proportion of hospital trusts are in ...</td>\n",
       "    </tr>\n",
       "    <tr>\n",
       "      <th>3</th>\n",
       "      <td>Rare Diseases</td>\n",
       "      <td>4.  How many people have diseases classified b...</td>\n",
       "    </tr>\n",
       "    <tr>\n",
       "      <th>4</th>\n",
       "      <td>Social Care Budgets: A&amp;E Attendance</td>\n",
       "      <td>5.  What assessment he has made of the effect ...</td>\n",
       "    </tr>\n",
       "    <tr>\n",
       "      <th>...</th>\n",
       "      <td>...</td>\n",
       "      <td>...</td>\n",
       "    </tr>\n",
       "    <tr>\n",
       "      <th>13988</th>\n",
       "      <td>Education Recovery</td>\n",
       "      <td>With permission, Mr Deputy Speaker, I will mak...</td>\n",
       "    </tr>\n",
       "    <tr>\n",
       "      <th>13989</th>\n",
       "      <td>Official Development Assistance</td>\n",
       "      <td>Application for emergency debate (Standing Ord...</td>\n",
       "    </tr>\n",
       "    <tr>\n",
       "      <th>13990</th>\n",
       "      <td>Points of Order</td>\n",
       "      <td>On a point of order, Mr Deputy Speaker. This i...</td>\n",
       "    </tr>\n",
       "    <tr>\n",
       "      <th>13991</th>\n",
       "      <td>Advanced Research and Invention  Agency Bill</td>\n",
       "      <td>[Relevant documents: Third Report of the Scien...</td>\n",
       "    </tr>\n",
       "    <tr>\n",
       "      <th>13992</th>\n",
       "      <td>Preserving Heritage and Statues in Cities</td>\n",
       "      <td>Motion made, and Question proposed, That this ...</td>\n",
       "    </tr>\n",
       "  </tbody>\n",
       "</table>\n",
       "<p>13993 rows × 2 columns</p>\n",
       "</div>"
      ]
     },
     "metadata": {},
     "execution_count": 2
    }
   ],
   "metadata": {}
  },
  {
   "cell_type": "code",
   "execution_count": null,
   "source": [],
   "outputs": [],
   "metadata": {}
  }
 ],
 "metadata": {
  "orig_nbformat": 4,
  "language_info": {
   "name": "python",
   "version": "3.8.6",
   "mimetype": "text/x-python",
   "codemirror_mode": {
    "name": "ipython",
    "version": 3
   },
   "pygments_lexer": "ipython3",
   "nbconvert_exporter": "python",
   "file_extension": ".py"
  },
  "kernelspec": {
   "name": "python3",
   "display_name": "Python 3.8.6 64-bit ('3.8.6')"
  },
  "interpreter": {
   "hash": "73dd98c30cc0f151d35df4175cb0d9ba653549e657e1b10ddd5165797a0ff531"
  }
 },
 "nbformat": 4,
 "nbformat_minor": 2
}