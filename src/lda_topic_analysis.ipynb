{
 "cells": [
  {
   "cell_type": "markdown",
   "source": [
    "# LDA Topic Modelling from Hansard\n",
    "## Using LDA to try to extract topics from unlabelled UK parliamentary debates."
   ],
   "metadata": {}
  },
  {
   "cell_type": "markdown",
   "source": [
    "### Data preparation\n",
    "A single-day example of the data can be found in `/data/2016-01-14.json` to make following this more clear."
   ],
   "metadata": {}
  },
  {
   "cell_type": "code",
   "execution_count": 1,
   "source": [
    "import lzma\n",
    "import pickle\n",
    "from pprint import pprint\n",
    "\n",
    "raw_data = None\n",
    "with lzma.open(f\"../data/2016-today.xz\", \"rb\") as f:\n",
    "    raw_data = pickle.load(f)\n",
    "\n",
    "# Check loaded successfully by printing date of first 2 days in data.\n",
    "pprint(raw_data[0][\"date\"])\n",
    "pprint(raw_data[1][\"date\"])"
   ],
   "outputs": [
    {
     "output_type": "stream",
     "name": "stdout",
     "text": [
      "'2016-01-05'\n",
      "'2016-01-06'\n"
     ]
    }
   ],
   "metadata": {}
  },
  {
   "cell_type": "markdown",
   "source": [
    "Here we recursively loop through the \"debates\" as they have a nested structure. The problem we face here is that some things Hansard lists as \"debates\" are/have collections of debates or even just statements. So we try to filter down to the debates on the deepest level and those which have more than 1 contribution so therefore are not statements."
   ],
   "metadata": {}
  },
  {
   "cell_type": "code",
   "execution_count": 2,
   "source": [
    "import numpy as np\n",
    "import pandas as pd\n",
    "\n",
    "\n",
    "def recurse_debates(debates):\n",
    "    for deb in debates:  # Loop through debates\n",
    "        contributions = [\n",
    "            x for x in deb[\"items\"] if x[\"type\"] == \"contribution\"\n",
    "        ]  # Get only the items which have contributions\n",
    "        if (\n",
    "            len(contributions) > 1\n",
    "        ):  # Keep only debates that have more than one contribution.\n",
    "            yield np.array(\n",
    "                [deb[\"title\"], \" \".join([item[\"text\"] for item in deb[\"items\"]])]\n",
    "            )  # Yield debate item in format [title, joined text]\n",
    "        if (\n",
    "            \"child_debates\" in deb\n",
    "        ):  # If debate has child debates loop through those and yield items.\n",
    "            for item in recurse_debates(deb[\"child_debates\"]):\n",
    "                yield item\n",
    "\n",
    "\n",
    "def generate_debates(raw_data):\n",
    "    for day in raw_data:  # Loop through days in data\n",
    "        for item in recurse_debates(day[\"debates\"]):\n",
    "            yield item  # Yield each debate item\n",
    "\n",
    "\n",
    "df = pd.DataFrame(list(generate_debates(raw_data)), columns=[\"title\", \"text\"])\n",
    "df"
   ],
   "outputs": [
    {
     "output_type": "execute_result",
     "data": {
      "text/plain": [
       "                                              title  \\\n",
       "0                              Out-of-hospital Care   \n",
       "1                                       GP Services   \n",
       "2                         Hospital Trusts: Deficits   \n",
       "3                                     Rare Diseases   \n",
       "4               Social Care Budgets: A&E Attendance   \n",
       "...                                             ...   \n",
       "13988                            Education Recovery   \n",
       "13989               Official Development Assistance   \n",
       "13990                               Points of Order   \n",
       "13991  Advanced Research and Invention  Agency Bill   \n",
       "13992     Preserving Heritage and Statues in Cities   \n",
       "\n",
       "                                                    text  \n",
       "0      1.  What progress his Department has made on i...  \n",
       "1      2.  What progress his Department is making on ...  \n",
       "2      3.  What proportion of hospital trusts are in ...  \n",
       "3      4.  How many people have diseases classified b...  \n",
       "4      5.  What assessment he has made of the effect ...  \n",
       "...                                                  ...  \n",
       "13988  With permission, Mr Deputy Speaker, I will mak...  \n",
       "13989  Application for emergency debate (Standing Ord...  \n",
       "13990  On a point of order, Mr Deputy Speaker. This i...  \n",
       "13991  [Relevant documents: Third Report of the Scien...  \n",
       "13992  Motion made, and Question proposed, That this ...  \n",
       "\n",
       "[13993 rows x 2 columns]"
      ],
      "text/html": [
       "<div>\n",
       "<style scoped>\n",
       "    .dataframe tbody tr th:only-of-type {\n",
       "        vertical-align: middle;\n",
       "    }\n",
       "\n",
       "    .dataframe tbody tr th {\n",
       "        vertical-align: top;\n",
       "    }\n",
       "\n",
       "    .dataframe thead th {\n",
       "        text-align: right;\n",
       "    }\n",
       "</style>\n",
       "<table border=\"1\" class=\"dataframe\">\n",
       "  <thead>\n",
       "    <tr style=\"text-align: right;\">\n",
       "      <th></th>\n",
       "      <th>title</th>\n",
       "      <th>text</th>\n",
       "    </tr>\n",
       "  </thead>\n",
       "  <tbody>\n",
       "    <tr>\n",
       "      <th>0</th>\n",
       "      <td>Out-of-hospital Care</td>\n",
       "      <td>1.  What progress his Department has made on i...</td>\n",
       "    </tr>\n",
       "    <tr>\n",
       "      <th>1</th>\n",
       "      <td>GP Services</td>\n",
       "      <td>2.  What progress his Department is making on ...</td>\n",
       "    </tr>\n",
       "    <tr>\n",
       "      <th>2</th>\n",
       "      <td>Hospital Trusts: Deficits</td>\n",
       "      <td>3.  What proportion of hospital trusts are in ...</td>\n",
       "    </tr>\n",
       "    <tr>\n",
       "      <th>3</th>\n",
       "      <td>Rare Diseases</td>\n",
       "      <td>4.  How many people have diseases classified b...</td>\n",
       "    </tr>\n",
       "    <tr>\n",
       "      <th>4</th>\n",
       "      <td>Social Care Budgets: A&amp;E Attendance</td>\n",
       "      <td>5.  What assessment he has made of the effect ...</td>\n",
       "    </tr>\n",
       "    <tr>\n",
       "      <th>...</th>\n",
       "      <td>...</td>\n",
       "      <td>...</td>\n",
       "    </tr>\n",
       "    <tr>\n",
       "      <th>13988</th>\n",
       "      <td>Education Recovery</td>\n",
       "      <td>With permission, Mr Deputy Speaker, I will mak...</td>\n",
       "    </tr>\n",
       "    <tr>\n",
       "      <th>13989</th>\n",
       "      <td>Official Development Assistance</td>\n",
       "      <td>Application for emergency debate (Standing Ord...</td>\n",
       "    </tr>\n",
       "    <tr>\n",
       "      <th>13990</th>\n",
       "      <td>Points of Order</td>\n",
       "      <td>On a point of order, Mr Deputy Speaker. This i...</td>\n",
       "    </tr>\n",
       "    <tr>\n",
       "      <th>13991</th>\n",
       "      <td>Advanced Research and Invention  Agency Bill</td>\n",
       "      <td>[Relevant documents: Third Report of the Scien...</td>\n",
       "    </tr>\n",
       "    <tr>\n",
       "      <th>13992</th>\n",
       "      <td>Preserving Heritage and Statues in Cities</td>\n",
       "      <td>Motion made, and Question proposed, That this ...</td>\n",
       "    </tr>\n",
       "  </tbody>\n",
       "</table>\n",
       "<p>13993 rows × 2 columns</p>\n",
       "</div>"
      ]
     },
     "metadata": {},
     "execution_count": 2
    }
   ],
   "metadata": {}
  },
  {
   "cell_type": "markdown",
   "source": [
    "### Preprocessing\n",
    "Preprocessing is at first done with [Gensim's preprocessing](https://radimrehurek.com/gensim/parsing/preprocessing.html) which does all of the usual removal of unwanted chars and stopwords, as well as tokenisation and stemming."
   ],
   "metadata": {}
  },
  {
   "cell_type": "code",
   "execution_count": 3,
   "source": [
    "from gensim.parsing.preprocessing import preprocess_documents\n",
    "\n",
    "# Grab just the text from the original data.\n",
    "processed_corp = preprocess_documents(df[\"text\"])\n",
    "print(processed_corp[0])"
   ],
   "outputs": [
    {
     "output_type": "stream",
     "name": "stdout",
     "text": [
      "['progress', 'depart', 'integr', 'improv', 'care', 'provid', 'outsid', 'hospit', 'happi', 'new', 'year', 'speaker—and', 'happi', 'new', 'year', 'familiar', 'face', 'opposit', 'shadow', 'cabinet', 'govern', 'commit', 'transform', 'hospit', 'care', 'commun', 'seen', 'excel', 'progress', 'area', 'led', 'integr', 'pioneer', 'torbai', 'greenwich', 'govern', 'remain', 'fulli', 'commit', 'deliv', 'integr', 'programm', 'better', 'care', 'fund', 'vanguard', 'seventi', 'cent', 'peopl', 'prefer', 'die', 'home', 'allow', 'peopl', 'die', 'hospit', 'chang', 'netherland', 'ow', 'better', 'social', 'care', 'provid', 'outsid', 'hospit', 'messag', 'minist', 'clinic', 'commiss', 'group', 'try', 'hard', 'bring', 'integr', 'servic', 'grate', 'hon', 'friend', 'rais', 'issu', 'share', 'view', 'want', 'greater', 'choic', 'end', 'life', 'care', 'peopl', 'abl', 'care', 'die', 'place', 'choos', 'appropri', 'need', 'hospic', 'hospit', 'home', 'recent', 'choic', 'review', 'set', 'vision', 'enabl', 'greater', 'choic', 'end', 'life', 'work', 'nh', 'england', 'best', 'achiev', 'govern', 'expect', 'comment', 'soon', 'health', 'secretari', 'recent', 'receiv', 'letter', 'rang', 'social', 'care', 'organis', 'chariti', 'pan', 'spend', 'review', 'offer', 'sai', 'it“i', 'suffici', 'resolv', 'care', 'fund', 'crisis”and', 'warn', 'an“increas', 'number', 'older', 'people”without', 'suffici', 'support', '“increas', 'pressur', 'nh', '”will', 'health', 'secretari', 'final', 'admit', 'offer', 'autumn', 'statement', 'good', 'social', 'care', 'import', 'chancellor’', 'spend', 'review', 'note', 'billion', 'avail', 'social', 'care', 'precept—that', 'ad', 'council', 'tax—and', 'billion', 'avail', 'billion', 'avail', 'know', 'resourc', 'social', 'care', 'tight', 'need', 'best', 'practic', 'best', 'us', 'resourc', 'lead', 'author', 'right', 'hon', 'friend', 'consid', 'integr', 'improv', 'care', 'outsid', 'hospit', 'discuss', 'secretari', 'state', 'medic', 'people’', 'republ', 'china', 'bring', 'western', 'medicin', 'herbal', 'medicin', 'acupunctur', 'bear', 'demand', 'antibiot', 'respond', 'report', 'regul', 'herbal', 'medicin', 'practition', 'look', 'carefulli', 'dispens', 'arrang', 'small', 'scale', 'assembl', 'herbal', 'product', 'govern', 'people’', 'republ', 'china', 'interest', 'herbal', 'product', 'slightli', 'normal', 'portfolio', 'remit', 'assist', 'social', 'care', 'make', 'peopl', 'feel', 'better', 'add', 'vital', 'wellb', 'welcom', 'sure', 'local', 'area', 'taken', 'extrem', 'serious', 'thank', 'minist', 'respons', 'integr', 'improv', 'care', 'outsid', 'hospit', 'wai', 'revolutionis', 'health', 'servic', 'outlin', 'link', 'depart', 'explor', 'reduc', 'pressur', 'care', 'provis', 'outsid', 'hospit', 'facilit', 'reduc', 'pressur', 'absolut', 'number', 'pilot', 'pioneer', 'programm', 'earli', 'result', 'live', 'programm', 'penwith', 'cornwal', 'reduct', 'non', 'elect', 'admiss', 'hospit', 'reduct', 'emerg', 'admiss', 'hospit', 'hon', 'gentleman', 'right', 'better', 'social', 'care', 'better', 'integr', 'impact', 'hospit', 'admiss', 'sure', 'peopl', 'receiv', 'appropri', 'care', 'appropri', 'place', 'pleas', 'hear', 'minister’', 'refer', 'integr', 'care', 'organis', 'creat', 'constitu', 'given', 'increas', 'challeng', 'provid', 'social', 'care', 'later', 'stage', 'life', 'agre', 'model', 'need', 'look', 'support', 'abil', 'pilot', 'project', 'respond', 'differ', 'demograph', 'differ', 'area', 'enabl', 'area', 'learn', 'torbai', 'come', 'frequent', 'context', 'pleas', 'abl', 'prais', 'feet', 'like', 'point', 'involv', 'adult', 'social', 'care', 'greatli', 'affect', 'recent', 'flood', 'north', 'england', 'look', 'vulner', 'peopl', 'work', 'line', 'work', 'import', 'grate', 'rai', 'jame', 'associ', 'director', 'adult', 'social', 'servic', 'work', 'local', 'author', 'affect', 'area', 'contribut', 'look', 'vulner', 'peopl', 'period', 'report', 'appal', 'failur', 'southern', 'health', 'nh', 'foundat', 'trust', 'highlight', 'fact', 'unexpect', 'death', 'mental', 'health', 'learn', 'disabl', 'patient', 'took', 'place', 'outsid', 'hospit', 'investig', 'given', 'health', 'secretari', 'allow', 'hous', 'opportun', 'scrutinis', 'find', 'christma', 'minist', 'respond', 'todai', 'wide', 'held', 'concern', 'experi', 'nh', 'trust', 'isol', 'minist', 'agre', 'nation', 'public', 'investig', 'need', 'hon', 'ladi', 'right', 'right', 'hon', 'friend', 'health', 'secretari', 'said', 'relat', 'urgent', 'question', 'wider', 'concern', 'care', 'qualiti', 'commiss', 'look', 'pictur', 'happen', 'nation', 'death', 'investig', 'appropri', 'past', 'chang', 'govern', 'determin', 'chang', 'rang', 'thing', 'relat', 'mental', 'health', 'learn', 'disabl', 'area', 'forgotten', 'long', 'brought', 'light', 'work', 'govern']\n"
     ]
    }
   ],
   "metadata": {}
  },
  {
   "cell_type": "markdown",
   "source": [
    "Next we write out the document frequencies of each word to determine a suitable filter threshold. LDA is sensitive to very high or low occurring words so we have to filter them out to get a more respresentative picture for each document. I have chosen between 0.1% and 60%."
   ],
   "metadata": {}
  },
  {
   "cell_type": "code",
   "execution_count": 4,
   "source": [
    "from collections import defaultdict\n",
    "\n",
    "doc_count = 0\n",
    "frequencies = defaultdict(int)  # The doc frequencies of each token.\n",
    "for doc in processed_corp:\n",
    "    doc_count += 1\n",
    "    doc_contains = set()\n",
    "    for word in doc:\n",
    "        doc_contains.add(word)\n",
    "    for word in doc_contains:\n",
    "        frequencies[word] += 1\n",
    "\n",
    "# A sorted array of the format [(token, doc_count, frequency)]. For tokens in more than 2 docs (to reduce size for sorting).\n",
    "freq_sorted = sorted(\n",
    "    [\n",
    "        (key, val, round(val * 100.0 / doc_count, 3))\n",
    "        for (key, val) in frequencies.items()\n",
    "        if val > 2\n",
    "    ],\n",
    "    key=lambda x: x[1],\n",
    ")\n",
    "\n",
    "with open(\"../logs/sorted_frequencies.txt\", \"w\") as log_file:\n",
    "    pprint(freq_sorted, log_file)"
   ],
   "outputs": [],
   "metadata": {}
  },
  {
   "cell_type": "code",
   "execution_count": 5,
   "source": [
    "final_words = [word for (word, count, perc) in freq_sorted if 0.1 < perc < 60]\n",
    "print(final_words[:50])"
   ],
   "outputs": [
    {
     "output_type": "stream",
     "name": "stdout",
     "text": [
      "['paperless', 'unattain', 'sharm', 'dieter', 'irk', 'bellicos', 'jubeir', 'nusra', 'want—and', 'not—to', 'tangent', 'authorities—and', 'vermin', 'principle”', 'snag', 'jerri', 'shall—', 'decision—that', 'activity”', '“foreign', '“poor', 'sc’', 'faceti', 'shona', 'investment—and', 'people—mani', '”other', 'bach', 'clayton', 'warzon', 'microwav', 'balmor', 'pedestrianis', 'vauxhall’', 'can—', 'chickenhal', 'january—second', 'tatti', 'buzzard', 'fowler', 'january—remain', 'is“no', 'today—on', 'society—and', 'that—h', 'see”', 'law—it', 'striven', 'abuse”', 'vibrat']\n"
     ]
    }
   ],
   "metadata": {}
  },
  {
   "cell_type": "markdown",
   "source": [
    "There is still clearly some cleaning to be done with this final list of words but we can move on for now. Next we filter all words not in the `final_words` out of the corpus. Then we can, using Gensim, create a dictionary for each word in the corpus (i.e. assign each word a unique number), and covert each document to its \"bag of words\" representation (i.e remove the ordering from the words and covert it to the numbers from the dictionary)."
   ],
   "metadata": {}
  },
  {
   "cell_type": "code",
   "execution_count": 6,
   "source": [
    "filtered_corp = []\n",
    "for doc in processed_corp:\n",
    "    filtered_corp.append(np.intersect1d(doc, final_words))\n",
    "\n",
    "print(filtered_corp[:2])"
   ],
   "outputs": [
    {
     "output_type": "stream",
     "name": "stdout",
     "text": [
      "[array(['abil', 'abl', 'absolut', 'achiev', 'ad', 'add', 'admiss', 'admit',\n",
      "       'adult', 'affect', 'allow', 'antibiot', 'appal', 'appropri',\n",
      "       'area', 'arrang', 'assembl', 'assist', 'associ', 'author',\n",
      "       'autumn', 'avail', 'bear', 'best', 'better', 'billion', 'bring',\n",
      "       'brought', 'cabinet', 'care', 'carefulli', 'cent', 'challeng',\n",
      "       'chancellor’', 'chang', 'chariti', 'china', 'choic', 'choos',\n",
      "       'christma', 'clinic', 'come', 'comment', 'commiss', 'commit',\n",
      "       'commun', 'concern', 'consid', 'constitu', 'context', 'contribut',\n",
      "       'cornwal', 'council', 'creat', 'death', 'deliv', 'demand',\n",
      "       'demograph', 'depart', 'determin', 'die', 'differ', 'director',\n",
      "       'disabl', 'discuss', 'dispens', 'earli', 'elect', 'emerg', 'enabl',\n",
      "       'end', 'england', 'excel', 'expect', 'experi', 'explor', 'extrem',\n",
      "       'face', 'facilit', 'fact', 'failur', 'familiar', 'feel', 'feet',\n",
      "       'final', 'find', 'flood', 'forgotten', 'foundat', 'frequent',\n",
      "       'fulli', 'fund', 'given', 'good', 'grate', 'greater', 'greatli',\n",
      "       'greenwich', 'group', 'happen', 'happi', 'hard', 'health', 'hear',\n",
      "       'held', 'highlight', 'home', 'hospic', 'hospit', 'impact',\n",
      "       'improv', 'increas', 'integr', 'interest', 'investig', 'involv',\n",
      "       'isol', 'issu', 'jame', 'ladi', 'later', 'lead', 'learn', 'led',\n",
      "       'letter', 'life', 'light', 'like', 'line', 'link', 'live', 'local',\n",
      "       'long', 'look', 'make', 'medic', 'medicin', 'mental', 'messag',\n",
      "       'minister’', 'model', 'nation', 'netherland', 'nh', 'non',\n",
      "       'normal', 'north', 'note', 'number', 'offer', 'older', 'opportun',\n",
      "       'opposit', 'organis', 'outlin', 'outsid', 'ow', 'pan', 'past',\n",
      "       'patient', 'people’', 'period', 'pictur', 'pilot', 'pioneer',\n",
      "       'place', 'pleas', 'point', 'portfolio', 'practic', 'practition',\n",
      "       'prais', 'prefer', 'pressur', 'product', 'programm', 'progress',\n",
      "       'project', 'provid', 'provis', 'public', 'qualiti', 'question',\n",
      "       'rai', 'rais', 'rang', 'receiv', 'recent', 'reduc', 'reduct',\n",
      "       'refer', 'regul', 'relat', 'remain', 'remit', 'report', 'republ',\n",
      "       'resolv', 'resourc', 'respond', 'respons', 'result', 'review',\n",
      "       'revolutionis', 'sai', 'said', 'scale', 'scrutinis', 'seen',\n",
      "       'serious', 'servic', 'set', 'seventi', 'shadow', 'share',\n",
      "       'slightli', 'small', 'social', 'soon', 'southern', 'speaker—and',\n",
      "       'spend', 'stage', 'statement', 'suffici', 'sure', 'taken',\n",
      "       'tax—and', 'thank', 'thing', 'tight', 'todai', 'took', 'torbai',\n",
      "       'transform', 'trust', 'try', 'unexpect', 'urgent', 'us',\n",
      "       'vanguard', 'view', 'vision', 'vital', 'vulner', 'wai', 'want',\n",
      "       'warn', 'welcom', 'wellb', 'western', 'wide', 'wider', '“increas',\n",
      "       '”will'], dtype='<U20'), array(['abl', 'absolut', 'access', 'act', 'actual', 'admiss', 'alongsid',\n",
      "       'answer', 'app', 'appoint', 'appropri', 'area', 'ask', 'assur',\n",
      "       'awar', 'behalf', 'believ', 'bemoan', 'benefit', 'biggest',\n",
      "       'billion', 'book', 'chair', 'challeng', 'claim', 'clinic', 'clock',\n",
      "       'commiss', 'commit', 'complet', 'congratul', 'consequ', 'constitu',\n",
      "       'contact', 'continu', 'conveni', 'cornwal', 'cours', 'creation',\n",
      "       'current', 'dai', 'decreas', 'depart', 'difficulti', 'doctor',\n",
      "       'earli', 'easier', 'economi', 'emerg', 'enhanc', 'even', 'excel',\n",
      "       'experi', 'extra', 'extraordinarili', 'fact', 'fund', 'gener',\n",
      "       'get', 'given', 'go', 'good', 'gp', 'group', 'guarante', 'have',\n",
      "       'help', 'herefordshir', 'histor', 'histori', 'hour', 'impact',\n",
      "       'incom', 'increas', 'invest', 'job', 'labour’', 'ladi', 'letter',\n",
      "       'live', 'look', 'maintain', 'make', 'million', 'minister’',\n",
      "       'monei', 'morn', 'nh', 'nhs’', 'north', 'notic', 'number', 'onlin',\n",
      "       'parliament', 'parliament—it', 'partners’', 'past', 'patient',\n",
      "       'person', 'pervers', 'phone', 'pilot', 'place', 'plan', 'pleas',\n",
      "       'point', 'possibl', 'practic', 'predecessor', 'prime', 'prioriti',\n",
      "       'privat', 'progress', 'public', 'quickli', 'receiv', 'reduc',\n",
      "       'reduct', 'resist', 'resourc', 'revers', 'routin', 'run', 'rural',\n",
      "       'said', 'scheme', 'scrap', 'servic', 'seven', 'signific', 'slough',\n",
      "       'speaker', 'strong', 'surgeri', 'target', 'tell', 'todai', 'turn',\n",
      "       'underfund', 'wait', 'want', 'week', 'weekend', 'welcom', 'went',\n",
      "       'won', 'workforc', 'wrong'], dtype='<U20')]\n"
     ]
    }
   ],
   "metadata": {}
  },
  {
   "cell_type": "code",
   "execution_count": 7,
   "source": [
    "from gensim import corpora, models\n",
    "\n",
    "dictionary = corpora.Dictionary(filtered_corp)\n",
    "corpus_bow = [dictionary.doc2bow(doc) for doc in filtered_corp]\n",
    "print(list(dictionary.token2id.items())[:10])\n",
    "print(corpus_bow[10])"
   ],
   "outputs": [
    {
     "output_type": "stream",
     "name": "stdout",
     "text": [
      "[('abil', 0), ('abl', 1), ('absolut', 2), ('achiev', 3), ('ad', 4), ('add', 5), ('admiss', 6), ('admit', 7), ('adult', 8), ('affect', 9)]\n",
      "[(1, 1), (14, 1), (21, 1), (29, 1), (40, 1), (43, 1), (46, 1), (47, 1), (61, 1), (71, 1), (94, 1), (98, 1), (100, 1), (102, 1), (117, 1), (120, 1), (131, 1), (133, 1), (137, 1), (141, 1), (143, 1), (148, 1), (182, 1), (185, 1), (192, 1), (195, 1), (201, 1), (210, 1), (216, 1), (228, 1), (234, 1), (244, 1), (245, 1), (262, 1), (263, 1), (268, 1), (321, 1), (391, 1), (419, 1), (433, 1), (447, 1), (448, 1), (456, 1), (488, 1), (497, 1), (518, 1), (541, 1), (564, 1), (566, 1), (588, 1), (816, 1), (840, 1), (841, 1), (873, 1), (874, 1), (875, 1), (876, 1), (877, 1), (878, 1), (879, 1), (880, 1), (881, 1), (882, 1), (883, 1), (884, 1), (885, 1), (886, 1), (887, 1), (888, 1), (889, 1), (890, 1), (891, 1), (892, 1), (893, 1)]\n"
     ]
    }
   ],
   "metadata": {}
  },
  {
   "cell_type": "markdown",
   "source": [
    "### Modelling\n",
    "Now we have everything we need to perform the topic analysis on our corpus. Here I generate an LDA model for each number of topics in the range 3-25 and extract the top words in each topics for each model. This is so that we can work out which is the optimum number of topics."
   ],
   "metadata": {}
  },
  {
   "cell_type": "code",
   "execution_count": 8,
   "source": [
    "from tqdm import tqdm\n",
    "\n",
    "LDA_models = {} # LDA models dict with index being the number of topics.\n",
    "LDA_topics = {} # Top words in each topic for each of the above models.\n",
    "num_topics_list = list(range(3, 25)) # list of num_topics to attempt\n",
    "for i in tqdm(num_topics_list):\n",
    "    LDA_models[i] = models.LdaMulticore(corpus=corpus_bow,\n",
    "                             id2word=dictionary,\n",
    "                             num_topics=i,\n",
    "                             passes=10,\n",
    "                             random_state=42)\n",
    "\n",
    "    shown_topics = LDA_models[i].show_topics(num_topics=i,\n",
    "                                             num_words=300,\n",
    "                                             formatted=False)\n",
    "    \n",
    "    # Extract just the word for each topic from the show_topics output form [rank, [word, weight]]\n",
    "    LDA_topics[i] = [[word[0] for word in topic[1]] for topic in shown_topics]\n",
    "print(LDA_topics[num_topics_list[0]])"
   ],
   "outputs": [
    {
     "output_type": "stream",
     "name": "stderr",
     "text": [
      "100%|██████████| 22/22 [2:16:30<00:00, 372.30s/it]"
     ]
    },
    {
     "output_type": "stream",
     "name": "stdout",
     "text": [
      "[['make', 'want', 'todai', 'like', 'live', 'futur', 'go', 'come', 'wai', 'hope', 'debat', 'place', 'happen', 'bring', 'question', 'reason', 'rais', 'possibl', 'pai', 'opportun', 'better', 'parti', 'huge', 'thing', 'act', 'welcom', 'real', 'signific', 'term', 'week', 'ask', 'abl', 'countri', 'receiv', 'great', 'number', 'differ', 'life', 'local', 'month', 'chang', 'stand', 'concern', 'manag', 'point', 'power', 'gener', 'public', 'wish', 'grate', 'expect', 'cours', 'discuss', 'person', 'fact', 'let', 'simpli', 'commun', 'good', 'thank', 'recognis', 'increas', 'awai', 'propos', 'give', 'follow', 'clearli', 'help', 'relat', 'set', 'sure', 'start', 'far', 'current', 'absolut', 'believ', 'final', 'mention', 'suggest', 'given', 'result', 'committe', 'seen', 'particularli', 'respons', 'level', 'littl', 'mean', 'open', 'matter', 'area', 'experi', 'remain', 'consid', 'decis', 'constitu', 'fund', 'role', 'dai', 'particular', 'order', 'taken', 'end', 'ago', 'job', 'million', 'think', 'allow', 'servic', 'problem', 'moment', 'account', 'recent', 'get', 'home', 'world', 'heard', 'best', 'subject', 'famili', 'talk', 'thought', 'colleagu', 'look', 'close', 'case', 'involv', 'challeng', 'run', 'feel', 'forward', 'understand', 'have', 'posit', 'share', 'nation', 'came', 'parliament', 'join', 'high', 'move', 'sai', 'government’', 'west', 'deliv', 'call', 'care', 'long', 'awar', 'turn', 'address', 'pleas', 'south', 'return', 'specif', 'issu', 'progress', 'hard', 'speak', 'face', 'creat', 'secur', 'despit', 'benefit', 'depart', 'enabl', 'evid', 'continu', 'said', 'action', 'provid', 'accept', 'financi', 'singl', 'lead', 'major', 'offic', 'tell', 'requir', 'us', 'individu', 'exactli', 'try', 'report', 'offer', 'develop', 'left', 'impact', 'sit', 'measur', 'leav', 'comment', 'complet', 'group', 'ladi', 'view', 'kei', 'certainli', 'hear', 'england', 'build', 'plan', 'health', 'commit', 'contribut', 'improv', 'reduc', 'difficult', 'effect', 'clear', 'introduc', 'chamber', 'busi', 'process', 'exampl', 'interest', 'announc', 'present', 'strong', 'monei', 'situat', 'vital', 'potenti', 'social', 'word', 'avail', 'repres', 'north', 'incred', 'speaker', 'bit', 'achiev', 'congratul', 'lot', 'took', 'addit', 'organis', 'programm', 'sector', 'labour', 'earlier', 'properli', 'answer', 'excel', 'respond', 'step', 'visit', 'old', 'invest', 'speech', 'cost', 'opposit', 'young', 'deputi', 'fair', 'author', 'show', 'listen', 'pass', 'centr', 'east', 'appropri', 'meet', 'happi', 'larg', 'consider', 'rate', 'council', 'learn', 'regard', 'stop', 'told', 'access', 'wide', 'record', 'goe', 'ag', 'publish', 'establish', 'refer', 'team', 'second', 'stage', 'polit', 'actual', 'entir', 'affect', 'caus', 'list', 'deal', 'line', 'engag', 'prevent', 'school', 'prime', 'note', 'later', 'idea', 'especi', 'got'], ['speaker', 'clear', 'said', 'debat', 'given', 'think', 'dai', 'point', 'matter', 'approach', 'question', 'issu', 'order', 'sai', 'inform', 'seek', 'view', 'deal', 'mind', 'ask', 'call', 'word', 'us', 'allow', 'forward', 'earlier', 'leav', 'understand', 'end', 'hope', 'case', 'consid', 'record', 'secur', 'wai', 'past', 'exampl', 'posit', 'second', 'believ', 'try', 'concern', 'look', 'respect', 'talk', 'refer', 'report', 'told', 'todai', 'thing', 'mean', 'have', 'rule', 'speak', 'relat', 'respons', 'fact', 'particularli', 'polit', 'forc', 'thank', 'parliament', 'discuss', 'law', 'parti', 'let', 'follow', 'feel', 'stand', 'provid', 'differ', 'long', 'far', 'public', 'hear', 'accept', 'decid', 'taken', 'polici', 'commit', 'possibl', 'hold', 'chair', 'reason', 'suggest', 'gener', 'set', 'number', 'mention', 'chang', 'fail', 'final', 'protect', 'like', 'indic', 'propos', 'absolut', 'constitu', 'happen', 'requir', 'nation', 'statement', 'current', 'note', 'open', 'colleagu', 'decis', 'recent', 'hand', 'situat', 'involv', 'present', 'unit', 'read', 'simpli', 'rightli', 'give', 'want', 'person', 'complet', 'place', 'get', 'direct', 'actual', 'wish', 'entir', 'lot', 'address', 'cours', 'continu', 'effect', 'ladi', 'bench', 'lead', 'grate', 'longer', 'caus', 'share', 'appli', 'press', 'kind', 'interest', 'sure', 'term', 'necessari', 'heard', 'account', 'rais', 'face', 'express', 'respond', 'clearli', 'form', 'good', 'took', 'tell', 'abl', 'offic', 'turn', 'base', 'come', 'remain', 'proper', 'put', 'reflect', 'prime', 'difficult', 'great', 'opposit', 'offer', 'thought', 'fear', 'contribut', 'awar', 'bring', 'legal', 'oper', 'urg', 'repres', 'major', 'leader', 'ago', 'close', 'carri', 'basi', 'brought', 'offici', 'chamber', 'seen', 'committe', 'comment', 'period', 'opportun', 'answer', 'expect', 'littl', 'avail', 'appear', 'week', 'moment', 'line', 'start', 'parliamentari', 'serv', 'extrem', 'meet', 'world', 'sort', 'organis', 'listen', 'busi', 'futur', 'practic', 'process', 'act', 'kingdom', 'common', 'problem', 'wrong', 'plai', 'confirm', 'intend', 'pai', 'consider', 'risk', 'certainli', 'subject', 'countri', 'specif', 'determin', 'east', 'side', 'event', 'action', 'success', 'sit', 'go', 'help', 'got', 'assur', 'signific', 'home', 'north', 'particular', 'better', 'government’', 'job', 'power', 'sens', 'awai', 'independ', 'natur', 'best', 'tabl', 'exist', 'speech', 'affect', 'motion', 'area', 'outsid', 'limit', 'recognis', 'doubt', 'prepar', 'part', 'publish', 'high', 'confid', 'purpos', 'british', 'servic', 'regard', 'individu', 'principl', 'impact', 'previou', 'conclus', 'month', 'shall', 'court', 'result', 'attempt', 'later', 'achiev', 'larg', 'run', 'wonder', 'rememb', 'short', 'prevent', 'elect', 'group', 'live', 'known', 'commun', 'european', 'idea', 'interrupt', 'occas', 'agreement'], ['continu', 'issu', 'look', 'step', 'countri', 'depart', 'recent', 'provid', 'help', 'constitu', 'point', 'sure', 'question', 'commit', 'place', 'thank', 'come', 'want', 'discuss', 'wai', 'nation', 'million', 'plan', 'said', 'make', 'ladi', 'respons', 'number', 'good', 'cours', 'meet', 'servic', 'absolut', 'fund', 'week', 'given', 'think', 'rais', 'local', 'welcom', 'matter', 'area', 'increas', 'set', 'busi', 'clear', 'report', 'opportun', 'case', 'effect', 'public', 'concern', 'deal', 'like', 'forward', 'go', 'answer', 'chang', 'commun', 'futur', 'assess', 'government’', 'awar', 'ask', 'close', 'offic', 'abl', 'possibl', 'taken', 'best', 'deliv', 'hope', 'current', 'improv', 'understand', 'great', 'protect', 'unit', 'fact', 'develop', 'month', 'long', 'review', 'announc', 'end', 'bring', 'secur', 'consid', 'invest', 'us', 'order', 'level', 'term', 'polici', 'thing', 'benefit', 'billion', 'particularli', 'job', 'world', 'receiv', 'recognis', 'have', 'dai', 'access', 'allow', 'gener', 'pai', 'follow', 'action', 'leav', 'requir', 'parti', 'home', 'live', 'sector', 'face', 'todai', 'author', 'speaker', 'decis', 'progress', 'posit', 'better', 'remain', 'avail', 'colleagu', 'result', 'process', 'mean', 'confirm', 'start', 'tell', 'addit', 'encourag', 'talk', 'publish', 'monei', 'impact', 'high', 'happen', 'group', 'propos', 'assur', 'oper', 'health', 'sai', 'particular', 'prime', 'hear', 'industri', 'measur', 'role', 'differ', 'happi', 'relat', 'statement', 'challeng', 'believ', 'england', 'committe', 'programm', 'share', 'exampl', 'lead', 'inform', 'specif', 'british', 'vital', 'record', 'past', 'far', 'problem', 'expect', 'address', 'grate', 'act', 'intern', 'offer', 'economi', 'success', 'build', 'union', 'let', 'potenti', 'seen', 'north', 'cost', 'reduc', 'scheme', 'approach', 'famili', 'try', 'introduc', 'engag', 'get', 'repres', 'european', 'council', 'parliament', 'open', 'strategi', 'power', 'care', 'mention', 'join', 'kingdom', 'refer', 'signific', 'situat', 'huge', 'interest', 'kei', 'organis', 'wish', 'involv', 'forc', 'seek', 'base', 'earlier', 'tackl', 'accept', 'labour', 'spend', 'major', 'heard', 'cut', 'social', 'plai', 'stand', 'certainli', 'financi', 'reason', 'consult', 'creat', 'risk', 'visit', 'person', 'compani', 'ago', 'evid', 'hard', 'independ', 'real', 'complet', 'law', 'give', 'respect', 'learn', 'account', 'affect', 'trade', 'met', 'south', 'rate', 'suggest', 'call', 'east', 'scotland', 'contribut', 'children', 'econom', 'view', 'run', 'budget', 'pleas', 'clearli', 'caus', 'west', 'individu', 'agreement', 'campaign', 'achiev', 'actual', 'market', 'reassur', 'rang', 'prioriti', 'lot', 'fulli', 'free', 'comment', 'congratul', 'excel', 'second', 'offici', 'subject', 'period', 'debat', 'speak', 'life', 'staff', 'show', 'exist', 'brexit', 'extrem', 'project', 'legisl', 'educ', 'practic']]\n"
     ]
    },
    {
     "output_type": "stream",
     "name": "stderr",
     "text": [
      "\n"
     ]
    }
   ],
   "metadata": {}
  },
  {
   "cell_type": "markdown",
   "source": [
    "A common and effective measure of which model is performing the best here is Coherence which aims to score the semantic similarity of each topic. It does this by assuming semantically related words appear close together, whilst dividing out highly occurring words. Here we will also calculate the [Jaccard similarity](https://en.wikipedia.org/wiki/Jaccard_index) for each model. This metric simply calculates the set overlap of the top words in each topic to show when multiple topics are similar. As, generally speaking, less topics should produce a higher coherence and more topics a lower similarity a combination of these two metrics should help us find a good balance of topic numbers without inspecting each model.  \n",
    "  \n",
    "We need to be careful not to simply choose the largest difference here without thinking but try to find the point with the best balance for our use case."
   ],
   "metadata": {}
  },
  {
   "cell_type": "code",
   "execution_count": 9,
   "source": [
    "def jaccard_similarity(topic_1, topic_2):\n",
    "    \"\"\"\n",
    "    Derives the Jaccard similarity of two topics. We want a low similarity to ensure diverse and clearly distinct topics.\n",
    "\n",
    "    Jaccard similarity:\n",
    "    - J(A,B) = (A ∩ B)/(A ∪ B)\n",
    "    \"\"\"\n",
    "    intersection = set(topic_1).intersection(set(topic_2))\n",
    "    union = set(topic_1).union(set(topic_2))\n",
    "                    \n",
    "    return float(len(intersection))/float(len(union))\n",
    "\n",
    "mean_similarities = [] # Mean similarity for each topic model as list rather than dict.\n",
    "for i in num_topics_list:\n",
    "    similarities = []\n",
    "    for x, topics1 in enumerate(LDA_topics[i]):\n",
    "        inner_similarities = []\n",
    "        for y, topics2 in enumerate(LDA_topics[i]):\n",
    "            if x != y:\n",
    "                # We do calculate each similarity twice but that will result in the same mean.\n",
    "                inner_similarities.append(jaccard_similarity(topics1, topics2))\n",
    "        similarities.append(np.array(inner_similarities).mean())\n",
    "    mean_similarities.append(np.array(similarities).mean())\n",
    "\n",
    "print(mean_similarities)"
   ],
   "outputs": [
    {
     "output_type": "stream",
     "name": "stdout",
     "text": [
      "[0.5744314243225673, 0.5525383798866348, 0.5065967830592121, 0.4784138130308788, 0.4852889681019307, 0.460270847265531, 0.46790584068464747, 0.46043331344742355, 0.44286170818500054, 0.45020385148111086, 0.4524420915467141, 0.44355859332151215, 0.4479502989489691, 0.4463073054801694, 0.4460310929325901, 0.45001167928393954, 0.4501862811362078, 0.4444649444509959, 0.44715631447552523, 0.44113496414689374, 0.4522367631792877, 0.4601509487638485]\n"
     ]
    }
   ],
   "metadata": {}
  },
  {
   "cell_type": "code",
   "execution_count": 10,
   "source": [
    "coherences = [models.CoherenceModel(model=LDA_models[i], texts=filtered_corp, dictionary=dictionary, coherence='c_v').get_coherence() for i in tqdm(num_topics_list)]\n",
    "print(coherences)"
   ],
   "outputs": [
    {
     "output_type": "stream",
     "name": "stderr",
     "text": [
      "100%|██████████| 22/22 [33:24<00:00, 91.09s/it] "
     ]
    },
    {
     "output_type": "stream",
     "name": "stdout",
     "text": [
      "[0.20498385690841833, 0.2479371703676715, 0.24951722278412541, 0.24720885260839265, 0.2562121553121431, 0.2710217426900021, 0.2648445801138077, 0.25807591317075684, 0.24938564266983454, 0.2535954293012744, 0.2586961225546705, 0.22854999843749876, 0.23646460464809219, 0.2349636296667553, 0.24811394356340286, 0.23301153715018508, 0.23070005471678776, 0.24052826398973975, 0.23738663703632432, 0.23566598580904372, 0.24248943312037616, 0.21772512120336143]\n"
     ]
    },
    {
     "output_type": "stream",
     "name": "stderr",
     "text": [
      "\n"
     ]
    }
   ],
   "metadata": {}
  },
  {
   "cell_type": "code",
   "execution_count": 11,
   "source": [
    "optimal_topics_i = np.argmax(coherences - np.array(mean_similarities))\n",
    "optimal_topics_num = num_topics_list[optimal_topics_i]\n",
    "print(optimal_topics_num)"
   ],
   "outputs": [
    {
     "output_type": "stream",
     "name": "stdout",
     "text": [
      "8\n"
     ]
    }
   ],
   "metadata": {}
  },
  {
   "cell_type": "code",
   "execution_count": 12,
   "source": [
    "import matplotlib.pyplot as plt\n",
    "\n",
    "fig = plt.figure(figsize=(12,7))\n",
    "ax = plt.axes()\n",
    "ax.plot(num_topics_list, mean_similarities, label=\"Mean Similarity\")\n",
    "ax.plot(num_topics_list, coherences, label=\"Coherence\")\n",
    "plt.axvline(x=optimal_topics_num, color='g', label=\"Optimal\")\n",
    "plt.legend(fontsize=10)\n",
    "plt.xlabel(\"Num Topics\")\n",
    "plt.ylabel(\"Metric Value\")"
   ],
   "outputs": [
    {
     "output_type": "execute_result",
     "data": {
      "text/plain": [
       "Text(0, 0.5, 'Metric Value')"
      ]
     },
     "metadata": {},
     "execution_count": 12
    },
    {
     "output_type": "display_data",
     "data": {
      "text/plain": [
       "<Figure size 864x504 with 1 Axes>"
      ],
      "image/png": "[encoded data removed]"
     },
     "metadata": {
      "needs_background": "light"
     }
    }
   ],
   "metadata": {}
  },
  {
   "cell_type": "markdown",
   "source": [
    "It appears the number of topics does not drastically affect our data here. 8 seems like a good choice of topic_num but I would consider 13 if I wanted more topics. 8 is fine for now.  \n",
    "Also our coherence of 0.271 is not good. Let's see if we can improve that after we've taken a look at our model."
   ],
   "metadata": {}
  }
 ],
 "metadata": {
  "orig_nbformat": 4,
  "language_info": {
   "name": "python",
   "version": "3.8.6",
   "mimetype": "text/x-python",
   "codemirror_mode": {
    "name": "ipython",
    "version": 3
   },
   "pygments_lexer": "ipython3",
   "nbconvert_exporter": "python",
   "file_extension": ".py"
  },
  "kernelspec": {
   "name": "python3",
   "display_name": "Python 3.8.6 64-bit ('3.8.6')"
  },
  "interpreter": {
   "hash": "73dd98c30cc0f151d35df4175cb0d9ba653549e657e1b10ddd5165797a0ff531"
  }
 },
 "nbformat": 4,
 "nbformat_minor": 2
}